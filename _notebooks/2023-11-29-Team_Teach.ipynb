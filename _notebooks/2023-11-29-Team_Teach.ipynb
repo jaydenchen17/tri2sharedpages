{
 "cells": [
  {
   "cell_type": "markdown",
   "metadata": {},
   "source": [
    "# Team Teach: Legal and Ethical Concerns"
   ]
  },
  {
   "cell_type": "markdown",
   "metadata": {},
   "source": [
    "There are lots of legal and ethical concerns in the digital world, because a lot of things are widely accessable."
   ]
  },
  {
   "cell_type": "markdown",
   "metadata": {},
   "source": [
    "Intellectual Property: A work or invention that is the result of creativity to which one has rights i.e symbols, names, ideas you create\n",
    "\n",
    "Computer = easier distribution and copying of IP\n"
   ]
  },
  {
   "cell_type": "markdown",
   "metadata": {},
   "source": [
    "## How to Protect IP\n",
    "\n",
    "Patents: grants inventors exclusive rights to their inventions for a limited time, requiring disclosure of details in exchange. The legal process involves applying, meeting patentability criteria, and potential enforcement through legal action against infringement.\n",
    "\n",
    "Copyright: protects IP, given to all rights reserved copyright to creator of IP, prevents from using unless given permission"
   ]
  }
 ],
 "metadata": {
  "language_info": {
   "name": "python"
  }
 },
 "nbformat": 4,
 "nbformat_minor": 2
}

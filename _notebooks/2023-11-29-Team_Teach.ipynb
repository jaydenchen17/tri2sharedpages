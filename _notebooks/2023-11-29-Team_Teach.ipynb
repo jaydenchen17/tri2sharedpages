{
 "cells": [
  {
   "cell_type": "markdown",
   "metadata": {},
   "source": [
    "# Team Teach: Legal and Ethical Concerns"
   ]
  }
 ],
 "metadata": {
  "language_info": {
   "name": "python"
  }
 },
 "nbformat": 4,
 "nbformat_minor": 2
}

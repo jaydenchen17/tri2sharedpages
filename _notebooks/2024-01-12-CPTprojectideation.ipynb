{
 "cells": [
  {
   "cell_type": "markdown",
   "metadata": {},
   "source": []
  },
  {
   "cell_type": "markdown",
   "metadata": {},
   "source": [
    "# CPT PROJECT\n",
    "## Horseracing\n",
    "\n",
    "## Game Features\n",
    "\n",
    "## Roles"
   ]
  }
 ],
 "metadata": {
  "language_info": {
   "name": "python"
  }
 },
 "nbformat": 4,
 "nbformat_minor": 2
}

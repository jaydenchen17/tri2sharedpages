{
 "cells": [
  {
   "cell_type": "markdown",
   "metadata": {},
   "source": [
    "---\n",
    "toc: True\n",
    "comments: True\n",
    "hide: True\n",
    "layout: post\n",
    "title: Binary Warmup Project Review Ticket\n",
    "---"
   ]
  },
  {
   "cell_type": "markdown",
   "metadata": {},
   "source": [
    "#### Review Ticket\n",
    "\n"
   ]
  },
  {
   "cell_type": "markdown",
   "metadata": {},
   "source": [
    "## What We Accomplished\n",
    "\n",
    "### Individual Work\n",
    "\n",
    "- Miguel: Did the SCSS Styling and built buttons for the project home page, organizing our project page\n",
    "\n",
    "- Marcus: Color Wheel Project, learned hex color and binary understanding\n",
    "\n",
    "- Jayden: Lightbulb project, binary math/counting and bits + CSS for page\n",
    "\n",
    "- Brandon: Color/hex searcher project\n",
    "\n",
    "\n",
    "- Nihar: Worked with Marcus on Color Wheel Project\n",
    "\n",
    "### Group Accomplishments\n",
    "- good division of work and cooperation\n",
    "\n",
    "- finished project with a relatively decent amount of time left, due to good time management\n"
   ]
  },
  {
   "cell_type": "markdown",
   "metadata": {},
   "source": [
    "## What We Learned & The Agile Mindset\n",
    "\n",
    "- communication and cooperation was a very big part of our project, and we organized our tasks between the group very well in comparison to last trimester\n",
    "\n",
    "- persistance with SAS styling, we faced a lot of confusion but we overcame it through determination and effort\n",
    "\n",
    "## Improvement Points:\n",
    "\n",
    "- Adding extra details to our project, with leftover time"
   ]
  }
 ],
 "metadata": {
  "language_info": {
   "name": "python"
  }
 },
 "nbformat": 4,
 "nbformat_minor": 2
}

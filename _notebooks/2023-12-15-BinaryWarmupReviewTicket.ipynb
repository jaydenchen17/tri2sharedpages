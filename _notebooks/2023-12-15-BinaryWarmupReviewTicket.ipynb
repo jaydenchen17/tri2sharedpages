{
 "cells": [
  {
   "cell_type": "markdown",
   "metadata": {},
   "source": [
    "---\n",
    "toc: True\n",
    "comments: True\n",
    "hide: True\n",
    "layout: post\n",
    "title: Binary Warmup Project Review Ticket\n",
    "---"
   ]
  },
  {
   "cell_type": "markdown",
   "metadata": {},
   "source": [
    "#### Review Ticket\n",
    "\n"
   ]
  }
 ],
 "metadata": {
  "language_info": {
   "name": "python"
  }
 },
 "nbformat": 4,
 "nbformat_minor": 2
}

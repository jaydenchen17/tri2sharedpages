{
 "cells": [
  {
   "cell_type": "markdown",
   "metadata": {},
   "source": [
    "## JWT Implementation\n",
    "\n"
   ]
  },
  {
   "cell_type": "markdown",
   "metadata": {},
   "source": [
    "# What is JWT\n",
    "JWT (JSon Web tokens) is a compact url safe means of representing claims bewtween two parties"
   ]
  },
  {
   "cell_type": "markdown",
   "metadata": {},
   "source": [
    "# Parts of JWT\n",
    "\n",
    "- Header: The header typically consists of two parts: the type of the token, which is JWT, and the signing algorithm being used, such as HMAC SHA256 or RSA. This part is base64Url encoded.\n",
    "\n",
    "- Payload: Contains the claims, which are statements about an entity (typically, the user) and additional data. There are three types of claims: registered, public, and private claims. This part is also base64Url encoded.\n",
    "\n",
    "- Signature: used to verify that the sender of the JWT is who it says it is and to ensure that the message wasn't changed along the way. The signature is appended to the encoded header and payload. This part is used to verify the integrity of the token."
   ]
  },
  {
   "cell_type": "markdown",
   "metadata": {},
   "source": [
    "# Implementing JWT into Flask Project"
   ]
  },
  {
   "cell_type": "markdown",
   "metadata": {},
   "source": [
    "1. Install JWT extension or Flask-JWT-Extended extension"
   ]
  },
  {
   "cell_type": "code",
   "execution_count": null,
   "metadata": {
    "vscode": {
     "languageId": "powershell"
    }
   },
   "outputs": [],
   "source": [
    "pip install pyJWT"
   ]
  },
  {
   "cell_type": "markdown",
   "metadata": {},
   "source": [
    "2. Create Flask app and initialize JWT"
   ]
  },
  {
   "cell_type": "code",
   "execution_count": null,
   "metadata": {},
   "outputs": [],
   "source": [
    "from flask import Flask\n",
    "from pyJWT import JWTManager\n",
    "\n",
    "app = Flask(__name__)\n",
    "app.config['JWT_SECRET_KEY'] = 'your-secret-key'  # Replace with a strong secret key\n",
    "jwt = JWTManager(app)"
   ]
  },
  {
   "cell_type": "markdown",
   "metadata": {},
   "source": [
    "3. Create login endpoint to generate tokens"
   ]
  },
  {
   "cell_type": "code",
   "execution_count": null,
   "metadata": {},
   "outputs": [],
   "source": [
    "@app.route('/login', methods=['POST'])\n",
    "def login():\n",
    "    # Verify user credentials\n",
    "    if verify_credentials():  # Replace with your authentication logic\n",
    "        user_id = get_user_id()\n",
    "        access_token = create_access_token(identity=user_id)  # JWT creation\n",
    "        return jsonify({'access_token': access_token})\n",
    "    else:\n",
    "        return jsonify({'error': 'Invalid credentials'}), 401"
   ]
  },
  {
   "cell_type": "markdown",
   "metadata": {},
   "source": [
    "# JWT Cookies\n",
    "Cookies are pices of information taht are used to be sent to a browser and stored on the device it has been sent to"
   ]
  },
  {
   "cell_type": "markdown",
   "metadata": {},
   "source": [
    "# Anatomy of Cookies"
   ]
  },
  {
   "cell_type": "markdown",
   "metadata": {},
   "source": [
    "# Validating Cookies"
   ]
  }
 ],
 "metadata": {
  "language_info": {
   "name": "python"
  }
 },
 "nbformat": 4,
 "nbformat_minor": 2
}

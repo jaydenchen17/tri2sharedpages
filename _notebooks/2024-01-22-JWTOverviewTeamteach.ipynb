{
 "cells": [
  {
   "cell_type": "markdown",
   "metadata": {},
   "source": [
    "## JWT Implementation\n",
    "\n"
   ]
  },
  {
   "cell_type": "markdown",
   "metadata": {},
   "source": [
    "# What is JWT\n",
    "JWT (JSon Web tokens) is a compact url safe means of representing claims bewtween two parties"
   ]
  },
  {
   "cell_type": "markdown",
   "metadata": {},
   "source": [
    "# Parts of JWT\n",
    "\n",
    "- Header\n",
    "\n",
    "- Payload\n",
    "\n",
    "- Signature"
   ]
  },
  {
   "cell_type": "markdown",
   "metadata": {},
   "source": [
    "# Implementing JWT into Flask Project"
   ]
  },
  {
   "cell_type": "markdown",
   "metadata": {},
   "source": [
    "# JWT Cookies\n",
    "Cookies are pices of information taht are used to be sent to a browser and stored on the device it has been sent to"
   ]
  },
  {
   "cell_type": "markdown",
   "metadata": {},
   "source": [
    "# Anatomy of Cookies"
   ]
  },
  {
   "cell_type": "markdown",
   "metadata": {},
   "source": [
    "# Validating Cookies"
   ]
  }
 ],
 "metadata": {
  "language_info": {
   "name": "python"
  }
 },
 "nbformat": 4,
 "nbformat_minor": 2
}

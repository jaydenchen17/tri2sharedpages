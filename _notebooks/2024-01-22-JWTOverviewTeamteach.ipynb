{
 "cells": [
  {
   "cell_type": "markdown",
   "metadata": {},
   "source": [
    "## JWT Implementation\n",
    "\n"
   ]
  },
  {
   "cell_type": "markdown",
   "metadata": {},
   "source": [
    "# What is JWT\n",
    "JWT (JSon Web tokens) is a compact url safe means of representing claims bewtween two parties"
   ]
  },
  {
   "cell_type": "markdown",
   "metadata": {},
   "source": [
    "# Parts of JWT\n",
    "\n",
    "- Header: The header typically consists of two parts: the type of the token, which is JWT, and the signing algorithm being used, such as HMAC SHA256 or RSA. This part is base64Url encoded.\n",
    "\n",
    "- Payload: Contains the claims, which are statements about an entity (typically, the user) and additional data. There are three types of claims: registered, public, and private claims. This part is also base64Url encoded.\n",
    "\n",
    "- Signature: used to verify that the sender of the JWT is who it says it is and to ensure that the message wasn't changed along the way. The signature is appended to the encoded header and payload. This part is used to verify the integrity of the token."
   ]
  },
  {
   "cell_type": "markdown",
   "metadata": {},
   "source": [
    "# Implementing JWT into Flask Project"
   ]
  },
  {
   "cell_type": "markdown",
   "metadata": {},
   "source": [
    "**CORS Configuration:**\n",
    "\n",
    "Change: Added CORS support for both deployed and local runs.\n",
    "Purpose: CORS (Cross-Origin Resource Sharing) is configured to allow or restrict requests from different origins. This change ensures that your Flask application can handle requests from various sources.\n"
   ]
  },
  {
   "cell_type": "code",
   "execution_count": null,
   "metadata": {},
   "outputs": [],
   "source": [
    "cors = CORS(app, supports_credentials=True)"
   ]
  },
  {
   "cell_type": "markdown",
   "metadata": {},
   "source": [
    "**Dynamic Allowed Origins:**\n",
    "\n",
    "Change: Added a before_request hook to dynamically set the allowed origin based on the request's 'Origin' header.\n",
    "Purpose: Dynamically adjusting the allowed origins based on the incoming request helps ensure that only specified origins are allowed, preventing unauthorized cross-origin requests.\n"
   ]
  },
  {
   "cell_type": "code",
   "execution_count": null,
   "metadata": {},
   "outputs": [],
   "source": [
    "\n",
    "@app.before_request\n",
    "def before_request():\n",
    "    allowed_origin = request.headers.get('Origin')\n",
    "    if allowed_origin in ['http://localhost:4100', 'http://127.0.0.1:4100', 'https://nighthawkcoders.github.io']:\n",
    "        cors._origins = allowed_origin"
   ]
  },
  {
   "cell_type": "markdown",
   "metadata": {},
   "source": [
    "**SameSite Attribute in set_cookie:**\n",
    "\n",
    "Change: Added samesite='None' to the set_cookie method to allow cross-site requests.\n",
    "Purpose: Setting the SameSite attribute to 'None' is crucial for cookies to be sent with cross-site requests. This is required when working with front-end applications hosted on different domains.\n"
   ]
  },
  {
   "cell_type": "code",
   "execution_count": null,
   "metadata": {},
   "outputs": [],
   "source": [
    "\n",
    "resp.set_cookie(\n",
    "    \"jwt\",\n",
    "    token,\n",
    "    max_age=3600,\n",
    "    secure=True,\n",
    "    httponly=True,\n",
    "    path='/',\n",
    "    samesite='None'\n",
    ")"
   ]
  },
  {
   "cell_type": "markdown",
   "metadata": {},
   "source": [
    "**Nginx Preflighted Requests Configuration:**\n",
    "\n",
    "Change: Added Nginx configuration for handling preflighted requests, allowing only the specified frontend server.\n",
    "Purpose: Preflighted requests are pre-checks made by the browser before the actual request. This Nginx configuration ensures that only the designated frontend server is allowed for preflighted requests.\n"
   ]
  },
  {
   "cell_type": "code",
   "execution_count": null,
   "metadata": {},
   "outputs": [],
   "source": [
    "\n",
    "if ($request_method = OPTIONS) {\n",
    "    add_header \"Access-Control-Allow-Credentials\" \"true\" always;\n",
    "    add_header \"Access-Control-Allow-Origin\"  \"https://nighthawkcoders.github.io\" always;\n",
    "    add_header \"Access-Control-Allow-Methods\" \"GET, POST, PUT, OPTIONS, HEAD\" always;\n",
    "    add_header \"Access-Control-Allow-MaxAge\" 600 always;\n",
    "    add_header \"Access-Control-Allow-Headers\" \"Authorization, Origin, X-Requested-With, Content-Type, Accept\" always;\n",
    "    return 204;\n",
    "}"
   ]
  },
  {
   "cell_type": "markdown",
   "metadata": {},
   "source": [
    "1. Install JWT extension or Flask-JWT-Extended extension"
   ]
  },
  {
   "cell_type": "code",
   "execution_count": null,
   "metadata": {
    "vscode": {
     "languageId": "powershell"
    }
   },
   "outputs": [],
   "source": [
    "pip install pyJWT"
   ]
  },
  {
   "cell_type": "markdown",
   "metadata": {},
   "source": [
    "2. Create Flask app and initialize JWT"
   ]
  },
  {
   "cell_type": "code",
   "execution_count": null,
   "metadata": {},
   "outputs": [],
   "source": [
    "from flask import Flask\n",
    "from pyJWT import JWTManager\n",
    "\n",
    "app = Flask(__name__)\n",
    "app.config['JWT_SECRET_KEY'] = 'your-secret-key'  # Replace with a strong secret key\n",
    "jwt = JWTManager(app)"
   ]
  },
  {
   "cell_type": "markdown",
   "metadata": {},
   "source": [
    "3. Create login endpoint to generate tokens"
   ]
  },
  {
   "cell_type": "code",
   "execution_count": null,
   "metadata": {},
   "outputs": [],
   "source": [
    "@app.route('/login', methods=['POST'])\n",
    "def login():\n",
    "    # Verify user credentials\n",
    "    if verify_credentials():  # Replace with your authentication logic\n",
    "        user_id = get_user_id()\n",
    "        access_token = create_access_token(identity=user_id)  # JWT creation\n",
    "        return jsonify({'access_token': access_token})\n",
    "    else:\n",
    "        return jsonify({'error': 'Invalid credentials'}), 401"
   ]
  },
  {
   "cell_type": "markdown",
   "metadata": {},
   "source": [
    "# JWT Cookies\n",
    "Cookies are pices of information taht are used to be sent to a browser and stored on the device it has been sent to"
   ]
  },
  {
   "cell_type": "markdown",
   "metadata": {},
   "source": [
    "# Anatomy of Cookies"
   ]
  },
  {
   "cell_type": "markdown",
   "metadata": {},
   "source": [
    "# Validating Cookies"
   ]
  }
 ],
 "metadata": {
  "language_info": {
   "name": "python"
  }
 },
 "nbformat": 4,
 "nbformat_minor": 2
}

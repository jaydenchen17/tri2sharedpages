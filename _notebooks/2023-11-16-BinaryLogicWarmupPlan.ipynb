{
 "cells": [
  {
   "cell_type": "markdown",
   "metadata": {},
   "source": [
    "## Binary Logic and Colorwheel Warmup\n",
    "\n",
    "### Color Table\n",
    "- Varied colors on table\n",
    "- When clicked, colors will show the rgb and binary code\n",
    "\n",
    "### Binary Code Color Finder\n",
    "- Color name is typed and program will provide binary code for that color\n",
    "\n",
    "### Styles for this project\n",
    "- Baby blue color scheme on background, buttons, and objects\n",
    "- Using scss structure"
   ]
  }
 ],
 "metadata": {
  "language_info": {
   "name": "python"
  }
 },
 "nbformat": 4,
 "nbformat_minor": 2
}

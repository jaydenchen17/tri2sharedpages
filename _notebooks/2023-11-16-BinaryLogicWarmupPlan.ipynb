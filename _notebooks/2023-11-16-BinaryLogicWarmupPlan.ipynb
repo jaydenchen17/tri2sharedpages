{
 "cells": [
  {
   "cell_type": "markdown",
   "metadata": {},
   "source": [
    "## Binary Logic and Colorwheel Warmup\n",
    "By Miguel, Nihar, Marcus, Brandon, and Jayden\n",
    "\n",
    "### 1. Color Table\n",
    "- Varied colors on table\n",
    "- When clicked, colors will show the rgb and binary code\n",
    "https://t3.ftcdn.net/jpg/01/40/05/46/360_F_140054684_yJcXupe2Ch7dPhugXnT1eyxcXfu6Lx2A.jpg\n",
    "\n",
    "### 2. Binary Code Color Finder\n",
    "- Color name is typed and program will provide binary code for that color\n",
    "\n",
    "### 3. Styles for this project\n",
    "- Baby blue color scheme on background, buttons, and objects\n",
    "- Using scss structure\n",
    "\n",
    "### 4. Homepage\n",
    "- Add a homepage with buttons linking to each feature, explanations of code\n",
    "    - Facilitate organization of features"
   ]
  }
 ],
 "metadata": {
  "language_info": {
   "name": "python"
  }
 },
 "nbformat": 4,
 "nbformat_minor": 2
}
